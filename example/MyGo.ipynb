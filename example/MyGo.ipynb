{
 "cells": [
  {
   "cell_type": "code",
   "execution_count": 3,
   "metadata": {},
   "outputs": [
    {
     "name": "stdout",
     "output_type": "stream",
     "text": [
      "[MyGoKernel220844] Info:file h:\\Jupyter\\ipynb\\MyGo\\src/lib.go created successfully\n",
      "[MyGoKernel220844] Info:Generating executable file\n",
      "[MyGoKernel220844] Info:go build -o C:\\Users\\ADMINI~1\\AppData\\Local\\Temp\\tmpg_a8625s.out h:\\Jupyter\\ipynb\\MyGo\\src/lib.go \n",
      "[MyGoKernel220844] Info:# command-line-arguments\n",
      "runtime.main_main·f: function main is undeclared in the main package\n",
      "\n",
      "[MyGoKernel220844] Info:The process end:9012\n",
      "[MyGoKernel220844] Info:gobuild-oC:\\Users\\ADMINI~1\\AppData\\Local\\Temp\\tmpg_a8625s.outh:\\Jupyter\\ipynb\\MyGo\\src/lib.go\n",
      "\n",
      "[MyGoKernel220844] Info:Go build exited with code 2, the executable will not be executed\n"
     ]
    },
    {
     "name": "stderr",
     "output_type": "stream",
     "text": [
      "[MyGoKernel220844] Error:[WinError 32] 另一个程序正在使用此文件，进程无法访问。: 'C:\\\\Users\\\\ADMINI~1\\\\AppData\\\\Local\\\\Temp\\\\tmpg_a8625s.out'"
     ]
    }
   ],
   "source": [
    "//%log:1\n",
    "//%overwritefile\n",
    "//%file:src/lib.go\n",
    "// %noruncode\n",
    "package main\n",
    "import \"fmt\"\n",
    "func pkgFunc() {\n",
    "    fmt.Println(\"call pkgFunc\")\n",
    "}"
   ]
  },
  {
   "cell_type": "code",
   "execution_count": 1,
   "metadata": {},
   "outputs": [
    {
     "name": "stdout",
     "output_type": "stream",
     "text": [
      "[MyGoKernel220844] Info:file h:\\Jupyter\\ipynb\\MyGo\\src/main.go created successfully\n",
      "[MyGoKernel220844] Info:Generating executable file\n",
      "[MyGoKernel220844] Info:go build -o main.exe h:\\Jupyter\\ipynb\\MyGo\\src/main.go h:\\Jupyter\\ipynb\\MyGo\\src/lib.go \n",
      "[MyGoKernel220844] Info:The process end:2348\n",
      "[MyGoKernel220844] Info:The process :h:\\Jupyter\\ipynb\\MyGo\\main.exe\n",
      "[MyGoKernel220844] Info:h:\\Jupyter\\ipynb\\MyGo\\main.exe \n"
     ]
    },
    {
     "data": {
      "text/plain": [
       "hello world\n"
      ]
     },
     "metadata": {
      "text/plain": {}
     },
     "output_type": "display_data"
    },
    {
     "name": "stdout",
     "output_type": "stream",
     "text": [
      "[MyGoKernel220844] Info:The process end:2928\n"
     ]
    }
   ],
   "source": [
    "//%log:0\n",
    "//%overwritefile\n",
    "//%file:src/main.go\n",
    "//%cflags:-o main.exe\n",
    "//%ldflags: h:\\Jupyter\\ipynb\\MyGo\\src/lib.go\n",
    "\n",
    "package main\n",
    "import \"fmt\"\n",
    "func main() {\n",
    "    // 同包的函数\n",
    "    // pkgFunc()\n",
    "    fmt.Println(\"hello world\")\n",
    "}"
   ]
  }
 ],
 "metadata": {
  "interpreter": {
   "hash": "790d66b9a7d127603100553f17b106d8e2aaf6777ced79107fc93b8d84add8f0"
  },
  "kernelspec": {
   "display_name": "MyGo",
   "language": "GoLang",
   "name": "mygo"
  },
  "language_info": {
   "file_extension": ".go",
   "mimetype": "text/x-gosrc",
   "name": "text/x-gosrc"
  },
  "orig_nbformat": 4
 },
 "nbformat": 4,
 "nbformat_minor": 2
}
