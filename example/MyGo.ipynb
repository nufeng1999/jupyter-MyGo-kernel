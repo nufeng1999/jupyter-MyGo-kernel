{
 "cells": [
  {
   "cell_type": "code",
   "execution_count": 1,
   "metadata": {},
   "outputs": [
    {
     "name": "stdout",
     "output_type": "stream",
     "text": [
      "[MyGo Kernel] Info:file h:\\Jupyter\\ipynb\\MyGo\\src/lib.go created successfully\n"
     ]
    }
   ],
   "source": [
    "//%log:1\n",
    "//%overwritefile\n",
    "//%file:src/lib.go\n",
    "//%noruncode\n",
    "package main\n",
    "import \"fmt\"\n",
    "func pkgFunc() {\n",
    "    fmt.Println(\"call pkgFunc\")\n",
    "}"
   ]
  },
  {
   "cell_type": "code",
   "execution_count": 3,
   "metadata": {},
   "outputs": [
    {
     "data": {
      "text/plain": [
       "hello world\n"
      ]
     },
     "metadata": {
      "text/plain": {}
     },
     "output_type": "display_data"
    }
   ],
   "source": [
    "//%log:0\n",
    "//%overwritefile\n",
    "//%file:src/main.go\n",
    "//%cflags:-o main.exe\n",
    "//%ldflags: h:\\Jupyter\\ipynb\\MyGo\\src/lib.go\n",
    "\n",
    "package main\n",
    "import \"fmt\"\n",
    "func main() {\n",
    "    // 同包的函数\n",
    "    // pkgFunc()\n",
    "    fmt.Println(\"hello world\")\n",
    "}"
   ]
  }
 ],
 "metadata": {
  "interpreter": {
   "hash": "790d66b9a7d127603100553f17b106d8e2aaf6777ced79107fc93b8d84add8f0"
  },
  "kernelspec": {
   "display_name": "MyGo",
   "language": "Go",
   "name": "mygo"
  },
  "language_info": {
   "file_extension": ".go",
   "mimetype": "text/x-gosrc",
   "name": "text/x-gosrc"
  },
  "orig_nbformat": 4
 },
 "nbformat": 4,
 "nbformat_minor": 2
}
