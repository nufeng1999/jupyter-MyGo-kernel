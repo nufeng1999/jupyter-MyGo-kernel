{
 "cells": [
  {
   "cell_type": "code",
   "execution_count": 2,
   "metadata": {},
   "outputs": [
    {
     "name": "stdout",
     "output_type": "stream",
     "text": [
      "[MyGo Kernel] Info:file h:\\Jupyter\\jupyter-MyGo-kernel\\example\\src/lib.go created successfully\n"
     ]
    }
   ],
   "source": [
    "//%log:1\n",
    "//%overwritefile\n",
    "//%file:src/lib.go\n",
    "//%noruncode\n",
    "package main\n",
    "import \"fmt\"\n",
    "func pkgFunc() {\n",
    "    fmt.Println(\"call pkgFunc\")\n",
    "}"
   ]
  },
  {
   "cell_type": "code",
   "execution_count": 4,
   "metadata": {},
   "outputs": [
    {
     "name": "stdout",
     "output_type": "stream",
     "text": [
      "[MyGo Kernel] Info:file h:\\Jupyter\\jupyter-MyGo-kernel\\example\\src/main.go created successfully\n",
      "[MyGo Kernel] Info:Generating executable file\n",
      "[MyGo Kernel] Info:go build -o h:\\Jupyter\\ipynb\\MyGo\\src/main.exe h:\\Jupyter\\jupyter-MyGo-kernel\\example\\src/main.go h:\\Jupyter\\ipynb\\MyGo\\src/lib.go \n",
      "[MyGo Kernel] Info:named files must all be in one directory; have h:\\Jupyter\\jupyter-MyGo-kernel\\example\\src/ and h:\\Jupyter\\ipynb\\MyGo\\src/\n",
      "\n"
     ]
    },
    {
     "name": "stderr",
     "output_type": "stream",
     "text": [
      "[MyGo Kernel] Error:gobuild-oh:\\Jupyter\\ipynb\\MyGo\\src/main.exeh:\\Jupyter\\jupyter-MyGo-kernel\\example\\src/main.goh:\\Jupyter\\ipynb\\MyGo\\src/lib.go\n",
      "[MyGo Kernel] Error:Go build exited with code 1, the executable will not be executed[MyGo Kernel] Error:[WinError 2] 系统找不到指定的文件。: 'h:\\\\Jupyter\\\\ipynb\\\\MyGo\\\\src/main.exe'"
     ]
    }
   ],
   "source": [
    "//%log:1\n",
    "//%overwritefile\n",
    "//%file:src/main.go\n",
    "//%cflags:-o h:\\Jupyter\\ipynb\\MyGo\\src/main.exe\n",
    "//%ldflags: h:\\Jupyter\\ipynb\\MyGo\\src/lib.go\n",
    "\n",
    "package main\n",
    "import \"fmt\"\n",
    "func main() {\n",
    "    // 同包的函数\n",
    "    // pkgFunc()\n",
    "    fmt.Println(\"hello world\")\n",
    "}"
   ]
  },
  {
   "cell_type": "code",
   "execution_count": null,
   "metadata": {},
   "outputs": [],
   "source": []
  }
 ],
 "metadata": {
  "interpreter": {
   "hash": "38bff49347d1e315ffe4e438ca69c956c90694fd6c920dd305da3d1e99520bc7"
  },
  "kernelspec": {
   "display_name": "MyGo",
   "language": "Go",
   "name": "mygo"
  },
  "language_info": {
   "file_extension": ".go",
   "mimetype": "text/x-gosrc",
   "name": "Go",
   "version": "3.9.6"
  },
  "orig_nbformat": 4
 },
 "nbformat": 4,
 "nbformat_minor": 2
}
