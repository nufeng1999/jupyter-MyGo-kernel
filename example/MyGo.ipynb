{
 "cells": [
  {
   "cell_type": "code",
   "execution_count": 5,
   "metadata": {},
   "outputs": [
    {
     "name": "stdout",
     "output_type": "stream",
     "text": [
      "[MyGo Kernel] Info:file h:\\Jupyter\\ipynb\\MyGo\\src/lib.go created successfully\n"
     ]
    }
   ],
   "source": [
    "//%log:1\n",
    "//%overwritefile\n",
    "//%file:src/lib.go\n",
    "//%noruncode\n",
    "package main\n",
    "import \"fmt\"\n",
    "func pkgFunc() {\n",
    "    fmt.Println(\"call pkgFunc\")\n",
    "}"
   ]
  },
  {
   "cell_type": "code",
   "execution_count": 1,
   "metadata": {},
   "outputs": [
    {
     "name": "stdout",
     "output_type": "stream",
     "text": [
      "[MyGo Kernel] Info:file h:\\Jupyter\\ipynb\\MyGo\\src/main.go created successfully\n",
      "[MyGo Kernel] Info:Generating executable file\n",
      "[MyGo Kernel] Info:go build -o C:\\Users\\ADMINI~1\\AppData\\Local\\Temp\\tmplcpjxtx8.out h:\\Jupyter\\ipynb\\MyGo\\src/main.go h:\\Jupyter\\ipynb\\MyGo\\src/lib.go \n",
      "[MyGo Kernel] Info:The process :C:\\Users\\ADMINI~1\\AppData\\Local\\Temp\\tmplcpjxtx8.out\n",
      "[MyGo Kernel] Info:C:\\Users\\ADMINI~1\\AppData\\Local\\Temp\\tmplcpjxtx8.out \n"
     ]
    },
    {
     "data": {
      "text/plain": [
       "hello world\n"
      ]
     },
     "metadata": {
      "text/plain": {}
     },
     "output_type": "display_data"
    },
    {
     "name": "stdout",
     "output_type": "stream",
     "text": [
      "[MyGo Kernel] Info:The process end:1192\n"
     ]
    }
   ],
   "source": [
    "//%log:1\n",
    "//%overwritefile\n",
    "//%file:src/main.go\n",
    "//%cflags:-o main.exe\n",
    "//%ldflags: h:\\Jupyter\\ipynb\\MyGo\\src/lib.go\n",
    "\n",
    "package main\n",
    "import \"fmt\"\n",
    "func main() {\n",
    "    // 同包的函数\n",
    "    // pkgFunc()\n",
    "    fmt.Println(\"hello world\")\n",
    "}"
   ]
  }
 ],
 "metadata": {
  "interpreter": {
   "hash": "790d66b9a7d127603100553f17b106d8e2aaf6777ced79107fc93b8d84add8f0"
  },
  "kernelspec": {
   "display_name": "MyGo",
   "language": "Go",
   "name": "mygo"
  },
  "language_info": {
   "file_extension": ".go",
   "mimetype": "text/x-gosrc",
   "name": "Go"
  },
  "orig_nbformat": 4
 },
 "nbformat": 4,
 "nbformat_minor": 2
}
